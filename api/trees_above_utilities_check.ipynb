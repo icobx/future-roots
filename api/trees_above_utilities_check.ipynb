{
 "cells": [
  {
   "cell_type": "code",
   "execution_count": 7,
   "metadata": {},
   "outputs": [],
   "source": [
    "import geopandas as gpd\n",
    "import pandas as pd"
   ]
  },
  {
   "cell_type": "code",
   "execution_count": 8,
   "metadata": {},
   "outputs": [],
   "source": [
    "gdf_trees = gpd.read_file('C:/Users/Lenovo/Downloads/greenery/RUZINOV_stromy.shp')\n",
    "gdf_trees = gdf_trees.to_crs(\"EPSG:4326\")\n",
    "\n",
    "gdf_utilities = gpd.read_file('C:/Users/Lenovo/Downloads/utilities/combined_utilities_ba2.geojson')\n",
    "gdf_utilities = gdf_utilities.to_crs(\"EPSG:4326\")"
   ]
  },
  {
   "cell_type": "code",
   "execution_count": 9,
   "metadata": {},
   "outputs": [],
   "source": [
    "new_crs = gdf_utilities.to_crs(epsg=6933)\n",
    "new_crs['geometry'] = new_crs.buffer(0.5)\n",
    "gdf_utilities_with_buffer = new_crs.to_crs(epsg=4326)"
   ]
  },
  {
   "cell_type": "code",
   "execution_count": 10,
   "metadata": {},
   "outputs": [],
   "source": [
    "joined_gdf = gdf_utilities_with_buffer.sjoin(gdf_trees,predicate='intersects')"
   ]
  },
  {
   "cell_type": "code",
   "execution_count": 15,
   "metadata": {},
   "outputs": [],
   "source": [
    "utilities_with_trees = joined_gdf[['utility', 'geometry']].drop_duplicates(keep='first')\n",
    "utilities_with_trees.to_file('C:/Users/Lenovo/Downloads/utilities/utilities_with_trees.geojson', driver=\"GeoJSON\") "
   ]
  },
  {
   "cell_type": "code",
   "execution_count": null,
   "metadata": {},
   "outputs": [],
   "source": []
  }
 ],
 "metadata": {
  "kernelspec": {
   "display_name": "venv",
   "language": "python",
   "name": "python3"
  },
  "language_info": {
   "codemirror_mode": {
    "name": "ipython",
    "version": 3
   },
   "file_extension": ".py",
   "mimetype": "text/x-python",
   "name": "python",
   "nbconvert_exporter": "python",
   "pygments_lexer": "ipython3",
   "version": "3.10.8"
  }
 },
 "nbformat": 4,
 "nbformat_minor": 2
}
