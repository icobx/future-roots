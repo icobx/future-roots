{
 "cells": [
  {
   "cell_type": "code",
   "execution_count": 1,
   "metadata": {},
   "outputs": [],
   "source": [
    "import geopandas as gpd\n",
    "import matplotlib.pyplot as plt\n",
    "import pandas as pd\n",
    "\n",
    "from api.config import padding_config\n",
    "from utils.overlay import overlay_layers"
   ]
  },
  {
   "cell_type": "code",
   "execution_count": 2,
   "metadata": {},
   "outputs": [],
   "source": [
    "root = r\"C:\\Users\\mrsam\\Documents\\Projects\\future-roots\\data\\processed\"\n",
    "\n",
    "layers = [\n",
    "    ('roads', 'roads_ruzinov'),\n",
    "    ('trees', 'trees_ruzinov'),\n",
    "    ('buildings', 'buildings_ruzinov_no_points'),\n",
    "    ('utilities', 'combined_utilities_ruzinov'),\n",
    "    ('other_green_areas', 'other_green_areas_ruzinov'),\n",
    "    ('pavements', 'pavements_ruzinov'),\n",
    "]"
   ]
  },
  {
   "cell_type": "code",
   "execution_count": 3,
   "metadata": {},
   "outputs": [],
   "source": [
    "master_data = gpd.read_file(r\"C:\\Users\\mrsam\\Downloads\\ruzinov_zelen_in_majetok.geojson\")"
   ]
  },
  {
   "cell_type": "code",
   "execution_count": 4,
   "metadata": {},
   "outputs": [
    {
     "name": "stdout",
     "output_type": "stream",
     "text": [
      "roads\n",
      "trees\n",
      "buildings\n",
      "utilities\n",
      "other_green_areas\n",
      "pavements\n"
     ]
    }
   ],
   "source": [
    "data_to_save = overlay_layers(master_data=master_data, root=root, padding_config=padding_config, layers=layers)"
   ]
  },
  {
   "cell_type": "code",
   "execution_count": 16,
   "metadata": {},
   "outputs": [],
   "source": [
    "data_to_save.to_file('overlay_result5.geojson', driver='GeoJSON')"
   ]
  },
  {
   "cell_type": "code",
   "execution_count": null,
   "metadata": {},
   "outputs": [],
   "source": []
  }
 ],
 "metadata": {
  "kernelspec": {
   "display_name": "hack310",
   "language": "python",
   "name": "python3"
  },
  "language_info": {
   "codemirror_mode": {
    "name": "ipython",
    "version": 3
   },
   "file_extension": ".py",
   "mimetype": "text/x-python",
   "name": "python",
   "nbconvert_exporter": "python",
   "pygments_lexer": "ipython3",
   "version": "3.10.5"
  }
 },
 "nbformat": 4,
 "nbformat_minor": 2
}
