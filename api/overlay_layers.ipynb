{
 "cells": [
  {
   "cell_type": "code",
   "execution_count": 1,
   "metadata": {},
   "outputs": [],
   "source": [
    "import geopandas as gpd\n",
    "import matplotlib.pyplot as plt\n",
    "import pandas as pd\n",
    "\n",
    "from api.config import padding_config\n",
    "from api.utils.overlay import overlay_layers"
   ]
  },
  {
   "cell_type": "code",
   "execution_count": 6,
   "metadata": {},
   "outputs": [],
   "source": [
    "root = r\"C:\\Users\\mrsam\\Downloads\\fresh\"\n",
    "\n",
    "layers = [\n",
    "    ('roads', 'roads_ba_ruzinov'),\n",
    "    ('buildings', 'buildings_ruzinov_no_points'),\n",
    "    ('utilities', 'combined_utilities_ba2'),\n",
    "    ('other_green_areas', 'ruzinov_zelenePlochy_ostatne'),\n",
    "    ('pavements', 'ruzinov_pavements'),\n",
    "    ('trees_not_over_utilities', 'trees_not_over_utilities'),\n",
    "    ('trees_over_utilities', 'trees_over_utilities'),\n",
    "]"
   ]
  },
  {
   "cell_type": "code",
   "execution_count": 7,
   "metadata": {},
   "outputs": [],
   "source": [
    "master_data = gpd.read_file(r\"C:\\Users\\mrsam\\Downloads\\fresh\\ruzinov_zelen_in_majetok.geojson\")"
   ]
  },
  {
   "cell_type": "code",
   "execution_count": 8,
   "metadata": {},
   "outputs": [
    {
     "name": "stdout",
     "output_type": "stream",
     "text": [
      "roads\n",
      "buildings\n",
      "utilities\n",
      "other_green_areas\n",
      "pavements\n",
      "trees_not_over_utilities\n"
     ]
    },
    {
     "name": "stderr",
     "output_type": "stream",
     "text": [
      "C:\\Users\\mrsam\\Documents\\Projects\\future-roots\\api\\utils\\overlay.py:75: FutureWarning: Downcasting object dtype arrays on .fillna, .ffill, .bfill is deprecated and will change in a future version. Call result.infer_objects(copy=False) instead. To opt-in to the future behavior, set `pd.set_option('future.no_silent_downcasting', True)`\n",
      "  gdf = pd.merge(left=gdf, right=mapping_df, how='left', on=[lookup_column]).fillna(1.0)\n"
     ]
    },
    {
     "name": "stdout",
     "output_type": "stream",
     "text": [
      "trees_over_utilities\n"
     ]
    },
    {
     "name": "stderr",
     "output_type": "stream",
     "text": [
      "C:\\Users\\mrsam\\Documents\\Projects\\future-roots\\api\\utils\\overlay.py:75: FutureWarning: Downcasting object dtype arrays on .fillna, .ffill, .bfill is deprecated and will change in a future version. Call result.infer_objects(copy=False) instead. To opt-in to the future behavior, set `pd.set_option('future.no_silent_downcasting', True)`\n",
      "  gdf = pd.merge(left=gdf, right=mapping_df, how='left', on=[lookup_column]).fillna(1.0)\n"
     ]
    }
   ],
   "source": [
    "data_to_save = overlay_layers(master_data=master_data, root=root, padding_config=padding_config, layers=layers)"
   ]
  },
  {
   "cell_type": "code",
   "execution_count": 10,
   "metadata": {},
   "outputs": [],
   "source": [
    "data_to_save.to_file('ruzinov_available_areas.geojson', driver='GeoJSON')"
   ]
  },
  {
   "cell_type": "code",
   "execution_count": null,
   "metadata": {},
   "outputs": [],
   "source": []
  }
 ],
 "metadata": {
  "kernelspec": {
   "display_name": "hack310",
   "language": "python",
   "name": "python3"
  },
  "language_info": {
   "codemirror_mode": {
    "name": "ipython",
    "version": 3
   },
   "file_extension": ".py",
   "mimetype": "text/x-python",
   "name": "python",
   "nbconvert_exporter": "python",
   "pygments_lexer": "ipython3",
   "version": "3.10.5"
  }
 },
 "nbformat": 4,
 "nbformat_minor": 2
}
