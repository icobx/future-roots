{
 "cells": [
  {
   "cell_type": "code",
   "execution_count": 32,
   "metadata": {},
   "outputs": [],
   "source": [
    "import geopandas as gpd\n",
    "import pandas as pd"
   ]
  },
  {
   "cell_type": "code",
   "execution_count": 33,
   "metadata": {},
   "outputs": [],
   "source": [
    "# Combine utilities\n",
    "utility_types = ['kolektory', 'produktovod', 'produktovody_prvky', 'prvky_elektriny', 'prvky_produktovodov', 'prvky_telekomunikacii', 'prvky_vodovodnej_siete', 'telekomunikacie', 'vodovody']\n",
    "utility_gdf = gpd.GeoDataFrame()\n",
    "\n",
    "for utility in utility_types:\n",
    "    gdf = gpd.read_file(f'C:/Users/Lenovo/Downloads/utilities/{utility}.shp')\n",
    "    gdf = gdf.to_crs(\"EPSG:4326\")\n",
    "    gdf['utility'] = utility\n",
    "    gdf_preprocessed = gdf[['geometry', 'utility']]\n",
    "    utility_gdf = pd.concat([utility_gdf, gdf_preprocessed])"
   ]
  },
  {
   "cell_type": "code",
   "execution_count": 34,
   "metadata": {},
   "outputs": [],
   "source": [
    "# Restrict by bounding box if needed\n",
    "only_ruzinov = False\n",
    "\n",
    "if only_ruzinov:\n",
    "    gdf_ruzinov = gpd.read_file(f'C:/Users/Lenovo/Downloads/utilities/ba2_admin_unit.geojson')\n",
    "    utilities_ba2 = gpd.sjoin(left_df= utility_gdf, right_df=gdf_ruzinov, how='inner')\n",
    "    utilities_ba2 = utilities_ba2[['geometry', 'utility']]\n",
    "    utilities_ba2.reset_index(drop=True, inplace=True )\n",
    "    utilities_ba2.to_file('C:/Users/Lenovo/Downloads/utilities/combined_utilities_ba2.geojson', driver=\"GeoJSON\")  \n",
    "else:\n",
    "    utilities_ba = utility_gdf[['geometry', 'utility']]\n",
    "    utilities_ba.to_file('C:/Users/Lenovo/Downloads/utilities/combined_utilities_ba.geojson', driver=\"GeoJSON\")  "
   ]
  }
 ],
 "metadata": {
  "kernelspec": {
   "display_name": "venv",
   "language": "python",
   "name": "python3"
  },
  "language_info": {
   "codemirror_mode": {
    "name": "ipython",
    "version": 3
   },
   "file_extension": ".py",
   "mimetype": "text/x-python",
   "name": "python",
   "nbconvert_exporter": "python",
   "pygments_lexer": "ipython3",
   "version": "3.10.8"
  }
 },
 "nbformat": 4,
 "nbformat_minor": 2
}
