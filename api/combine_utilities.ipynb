{
 "cells": [
  {
   "cell_type": "code",
   "execution_count": 20,
   "metadata": {},
   "outputs": [],
   "source": [
    "import geopandas as gpd\n",
    "import pandas as pd"
   ]
  },
  {
   "cell_type": "code",
   "execution_count": 21,
   "metadata": {},
   "outputs": [],
   "source": [
    "# Combine utilities\n",
    "utility_types = ['kolektory', 'produktovod', 'produktovody_prvky', 'prvky_elektriny', 'prvky_produktovodov', 'prvky_telekomunikacii', 'prvky_vodovodnej_siete', 'telekomunikacie', 'vodovody']\n",
    "utility_gdf = gpd.GeoDataFrame()\n",
    "\n",
    "for utility in utility_types:\n",
    "    gdf = gpd.read_file(f'C:/Users/Lenovo/Downloads/utilities/{utility}.shp')\n",
    "    gdf = gdf.to_crs(\"EPSG:4326\")\n",
    "    gdf['utility'] = utility\n",
    "    gdf_preprocessed = gdf[['geometry', 'utility']]\n",
    "    utility_gdf = pd.concat([utility_gdf, gdf_preprocessed])"
   ]
  },
  {
   "cell_type": "code",
   "execution_count": 22,
   "metadata": {},
   "outputs": [],
   "source": [
    "# Restrict by boundiing box\n",
    "gdf_ruzinov = gpd.read_file(f'C:/Users/Lenovo/Downloads/utilities/ba2_admin_unit.geojson')\n",
    "utilities_ba2 = gpd.sjoin(left_df= utility_gdf, right_df=gdf_ruzinov, how='inner')\n",
    "utilities_ba2 = utilities_ba2[['geometry', 'utility']]"
   ]
  },
  {
   "cell_type": "code",
   "execution_count": 23,
   "metadata": {},
   "outputs": [
    {
     "data": {
      "text/html": [
       "<div>\n",
       "<style scoped>\n",
       "    .dataframe tbody tr th:only-of-type {\n",
       "        vertical-align: middle;\n",
       "    }\n",
       "\n",
       "    .dataframe tbody tr th {\n",
       "        vertical-align: top;\n",
       "    }\n",
       "\n",
       "    .dataframe thead th {\n",
       "        text-align: right;\n",
       "    }\n",
       "</style>\n",
       "<table border=\"1\" class=\"dataframe\">\n",
       "  <thead>\n",
       "    <tr style=\"text-align: right;\">\n",
       "      <th></th>\n",
       "      <th>geometry</th>\n",
       "      <th>utility</th>\n",
       "    </tr>\n",
       "  </thead>\n",
       "  <tbody>\n",
       "    <tr>\n",
       "      <th>0</th>\n",
       "      <td>LINESTRING (17.18493 48.12447, 17.18445 48.124...</td>\n",
       "      <td>kolektory</td>\n",
       "    </tr>\n",
       "    <tr>\n",
       "      <th>1</th>\n",
       "      <td>LINESTRING (17.18483 48.12444, 17.18493 48.12444)</td>\n",
       "      <td>kolektory</td>\n",
       "    </tr>\n",
       "    <tr>\n",
       "      <th>2</th>\n",
       "      <td>LINESTRING (17.18491 48.12447, 17.18491 48.12448)</td>\n",
       "      <td>kolektory</td>\n",
       "    </tr>\n",
       "    <tr>\n",
       "      <th>3</th>\n",
       "      <td>LINESTRING (17.18493 48.12447, 17.18493 48.12448)</td>\n",
       "      <td>kolektory</td>\n",
       "    </tr>\n",
       "    <tr>\n",
       "      <th>4</th>\n",
       "      <td>LINESTRING (17.18483 48.12447, 17.18483 48.12444)</td>\n",
       "      <td>kolektory</td>\n",
       "    </tr>\n",
       "    <tr>\n",
       "      <th>...</th>\n",
       "      <td>...</td>\n",
       "      <td>...</td>\n",
       "    </tr>\n",
       "    <tr>\n",
       "      <th>235396</th>\n",
       "      <td>LINESTRING (17.19922 48.17106, 17.19858 48.171...</td>\n",
       "      <td>vodovody</td>\n",
       "    </tr>\n",
       "    <tr>\n",
       "      <th>235397</th>\n",
       "      <td>LINESTRING (17.17024 48.11657, 17.17106 48.116...</td>\n",
       "      <td>vodovody</td>\n",
       "    </tr>\n",
       "    <tr>\n",
       "      <th>235398</th>\n",
       "      <td>LINESTRING (17.14372 48.14575, 17.14373 48.14575)</td>\n",
       "      <td>vodovody</td>\n",
       "    </tr>\n",
       "    <tr>\n",
       "      <th>235399</th>\n",
       "      <td>LINESTRING (17.17218 48.11661, 17.17218 48.116...</td>\n",
       "      <td>vodovody</td>\n",
       "    </tr>\n",
       "    <tr>\n",
       "      <th>235400</th>\n",
       "      <td>LINESTRING (17.19413 48.1641, 17.1941 48.16448...</td>\n",
       "      <td>vodovody</td>\n",
       "    </tr>\n",
       "  </tbody>\n",
       "</table>\n",
       "<p>235401 rows × 2 columns</p>\n",
       "</div>"
      ],
      "text/plain": [
       "                                                 geometry    utility\n",
       "0       LINESTRING (17.18493 48.12447, 17.18445 48.124...  kolektory\n",
       "1       LINESTRING (17.18483 48.12444, 17.18493 48.12444)  kolektory\n",
       "2       LINESTRING (17.18491 48.12447, 17.18491 48.12448)  kolektory\n",
       "3       LINESTRING (17.18493 48.12447, 17.18493 48.12448)  kolektory\n",
       "4       LINESTRING (17.18483 48.12447, 17.18483 48.12444)  kolektory\n",
       "...                                                   ...        ...\n",
       "235396  LINESTRING (17.19922 48.17106, 17.19858 48.171...   vodovody\n",
       "235397  LINESTRING (17.17024 48.11657, 17.17106 48.116...   vodovody\n",
       "235398  LINESTRING (17.14372 48.14575, 17.14373 48.14575)   vodovody\n",
       "235399  LINESTRING (17.17218 48.11661, 17.17218 48.116...   vodovody\n",
       "235400  LINESTRING (17.19413 48.1641, 17.1941 48.16448...   vodovody\n",
       "\n",
       "[235401 rows x 2 columns]"
      ]
     },
     "execution_count": 23,
     "metadata": {},
     "output_type": "execute_result"
    }
   ],
   "source": [
    "utilities_ba2.reset_index(drop=True, inplace=True)\n",
    "utilities_ba2"
   ]
  },
  {
   "cell_type": "code",
   "execution_count": 24,
   "metadata": {},
   "outputs": [],
   "source": [
    "utilities_ba2.to_file('C:/Users/Lenovo/Downloads/utilities/combined_utilities_ba2.geojson', driver=\"GeoJSON\")  "
   ]
  }
 ],
 "metadata": {
  "kernelspec": {
   "display_name": "venv",
   "language": "python",
   "name": "python3"
  },
  "language_info": {
   "codemirror_mode": {
    "name": "ipython",
    "version": 3
   },
   "file_extension": ".py",
   "mimetype": "text/x-python",
   "name": "python",
   "nbconvert_exporter": "python",
   "pygments_lexer": "ipython3",
   "version": "3.10.8"
  }
 },
 "nbformat": 4,
 "nbformat_minor": 2
}
