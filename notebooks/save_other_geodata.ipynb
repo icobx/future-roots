{
 "cells": [
  {
   "cell_type": "code",
   "id": "initial_id",
   "metadata": {
    "collapsed": true,
    "ExecuteTime": {
     "end_time": "2024-10-25T14:03:48.076056Z",
     "start_time": "2024-10-25T14:03:47.471858Z"
    }
   },
   "source": [
    "import fiona\n",
    "import geopandas as gpd\n",
    "import os\n",
    "import pandas as pd"
   ],
   "outputs": [],
   "execution_count": 2
  },
  {
   "metadata": {
    "ExecuteTime": {
     "end_time": "2024-10-25T14:04:04.445411Z",
     "start_time": "2024-10-25T14:04:04.430643Z"
    }
   },
   "cell_type": "code",
   "source": [
    "# List available layers in the geopackage file\n",
    "layers = fiona.listlayers('../app/data/INSPIRE_AU.gpkg')\n",
    "print(\"Available layers:\", layers)"
   ],
   "id": "5bf86085540a9332",
   "outputs": [
    {
     "name": "stdout",
     "output_type": "stream",
     "text": [
      "Available layers: ['AdministrativeBoundary', 'AdministrativeUnit']\n"
     ]
    }
   ],
   "execution_count": 3
  },
  {
   "metadata": {
    "ExecuteTime": {
     "end_time": "2024-10-25T14:38:52.217515Z",
     "start_time": "2024-10-25T14:38:51.954350Z"
    }
   },
   "cell_type": "code",
   "source": "admin_units = gpd.read_file('../app/data/INSPIRE_AU.gpkg', layer='AdministrativeBoundary').to_crs(epsg=4326)",
   "id": "a934c1cf41984d90",
   "outputs": [],
   "execution_count": 79
  },
  {
   "metadata": {
    "ExecuteTime": {
     "end_time": "2024-10-25T14:38:52.986855Z",
     "start_time": "2024-10-25T14:38:52.602679Z"
    }
   },
   "cell_type": "code",
   "source": "admin_units_metadata = gpd.read_file('../app/data/INSPIRE_AU.gpkg', layer='AdministrativeUnit').to_crs(epsg=4326)",
   "id": "14ea39510e73ee03",
   "outputs": [],
   "execution_count": 80
  },
  {
   "metadata": {
    "ExecuteTime": {
     "end_time": "2024-10-25T14:38:56.667837Z",
     "start_time": "2024-10-25T14:38:56.658956Z"
    }
   },
   "cell_type": "code",
   "source": "admin_units_metadata[['nationalLevelName', 'administeredBy', 'name']].nationalLevelName.unique()",
   "id": "8fc24a10c549cc76",
   "outputs": [
    {
     "data": {
      "text/plain": [
       "array(['okres', 'obec', 'štát', 'kraj'], dtype=object)"
      ]
     },
     "execution_count": 81,
     "metadata": {},
     "output_type": "execute_result"
    }
   ],
   "execution_count": 81
  },
  {
   "metadata": {
    "ExecuteTime": {
     "end_time": "2024-10-25T14:39:04.896280Z",
     "start_time": "2024-10-25T14:39:04.886098Z"
    }
   },
   "cell_type": "code",
   "source": "ba_admin_unit = admin_units_metadata[(admin_units_metadata.nationalLevelName == 'kraj') & (admin_units_metadata.name == 'Bratislavský')]",
   "id": "bc1e517508a9ac34",
   "outputs": [],
   "execution_count": 82
  },
  {
   "metadata": {
    "ExecuteTime": {
     "end_time": "2024-10-25T14:52:18.535906Z",
     "start_time": "2024-10-25T14:52:18.529220Z"
    }
   },
   "cell_type": "code",
   "source": "ba1_admin_unit = admin_units_metadata[(admin_units_metadata.nationalLevelName == 'okres') &  (admin_units_metadata.name == 'Bratislava I')]",
   "id": "f27e93631426114d",
   "outputs": [],
   "execution_count": 118
  },
  {
   "metadata": {
    "ExecuteTime": {
     "end_time": "2024-10-25T14:37:51.643271Z",
     "start_time": "2024-10-25T14:37:51.490247Z"
    }
   },
   "cell_type": "code",
   "source": "ba1_admin_unit.plot()",
   "id": "c0a90269944e1100",
   "outputs": [
    {
     "data": {
      "text/plain": [
       "<Axes: >"
      ]
     },
     "execution_count": 75,
     "metadata": {},
     "output_type": "execute_result"
    },
    {
     "data": {
      "text/plain": [
       "<Figure size 640x480 with 1 Axes>"
      ],
      "image/png": "[encoded data removed]"
     },
     "metadata": {},
     "output_type": "display_data"
    }
   ],
   "execution_count": 75
  },
  {
   "metadata": {
    "ExecuteTime": {
     "end_time": "2024-10-25T14:37:55.975624Z",
     "start_time": "2024-10-25T14:37:55.902161Z"
    }
   },
   "cell_type": "code",
   "source": "ba_admin_unit.to_file('../app/data/processed/ba_admin_unit.geojson', driver='GeoJSON')",
   "id": "346f962c203f50c1",
   "outputs": [],
   "execution_count": 76
  },
  {
   "metadata": {
    "ExecuteTime": {
     "end_time": "2024-10-25T14:37:57.364545Z",
     "start_time": "2024-10-25T14:37:57.332806Z"
    }
   },
   "cell_type": "code",
   "source": "ba1_admin_unit.to_file('../app/data/processed/ba1_admin_unit.geojson', driver='GeoJSON')",
   "id": "ed2f187744974c53",
   "outputs": [],
   "execution_count": 77
  },
  {
   "metadata": {
    "ExecuteTime": {
     "end_time": "2024-10-25T14:08:18.348365Z",
     "start_time": "2024-10-25T14:08:18.324634Z"
    }
   },
   "cell_type": "code",
   "source": [
    "# List available layers in the geopackage file\n",
    "tn_layers = fiona.listlayers('../app/data/INSPIRE_TN.gpkg')\n",
    "print(\"Available layers:\", layers)"
   ],
   "id": "c28219e0ac401257",
   "outputs": [
    {
     "name": "stdout",
     "output_type": "stream",
     "text": [
      "Available layers: ['RailwayElectrification', 'RailwayLink', 'RailwayYardArea', 'NumberOfTracks', 'RoadLink', 'RoadArea', 'AerodromeType', 'RoadServiceArea', 'VerticalPosition', 'NominalTrackGauge', 'RoadWidth', 'SurfaceComposition', 'FunctionalRoadClass', 'CablewayLink', 'RunwayArea', 'FormOfWay', 'RoadServiceType', 'RailwayArea', 'RoadSurfaceCategory', 'AerodromeArea', 'ConditionOfFacility', 'Road', 'RailwayType', 'RailwayStationArea']\n"
     ]
    }
   ],
   "execution_count": 15
  },
  {
   "metadata": {
    "ExecuteTime": {
     "end_time": "2024-10-25T14:08:22.247466Z",
     "start_time": "2024-10-25T14:08:22.242407Z"
    }
   },
   "cell_type": "code",
   "source": "tn_layers_dict = {}",
   "id": "8c972bcb0d52f04f",
   "outputs": [],
   "execution_count": 16
  },
  {
   "metadata": {
    "ExecuteTime": {
     "end_time": "2024-10-25T14:22:39.348361Z",
     "start_time": "2024-10-25T14:21:38.340146Z"
    }
   },
   "cell_type": "code",
   "source": [
    "for layer in tn_layers:\n",
    "    tn_layers_dict[layer] = gpd.read_file('../app/data/INSPIRE_TN.gpkg', layer=layer).to_crs(epsg=4326)"
   ],
   "id": "8c40aaef86572738",
   "outputs": [
    {
     "name": "stderr",
     "output_type": "stream",
     "text": [
      "/home/aneta/Documents/Projects/future-roots/venv/lib/python3.10/site-packages/pyogrio/raw.py:198: RuntimeWarning: Invalid content for record 1 in column endLifespanVersion: 0000-00-00T00:00:00Z\n",
      "  return ogr_read(\n",
      "/home/aneta/Documents/Projects/future-roots/venv/lib/python3.10/site-packages/pyogrio/raw.py:198: RuntimeWarning: Invalid content for record 1 in column endLifespanVersion: 0000-00-00T00:00:00Z\n",
      "  return ogr_read(\n",
      "/home/aneta/Documents/Projects/future-roots/venv/lib/python3.10/site-packages/pyogrio/raw.py:198: RuntimeWarning: Invalid content for record 1 in column endLifespanVersion: 0000-00-00T00:00:00Z\n",
      "  return ogr_read(\n",
      "/home/aneta/Documents/Projects/future-roots/venv/lib/python3.10/site-packages/pyogrio/raw.py:198: RuntimeWarning: Invalid content for record 1 in column endLifespanVersion: 0000-00-00T00:00:00Z\n",
      "  return ogr_read(\n",
      "/home/aneta/Documents/Projects/future-roots/venv/lib/python3.10/site-packages/pyogrio/raw.py:198: RuntimeWarning: Invalid content for record 1 in column endLifespanVersion: 0000-00-00T00:00:00Z\n",
      "  return ogr_read(\n",
      "/home/aneta/Documents/Projects/future-roots/venv/lib/python3.10/site-packages/pyogrio/raw.py:198: RuntimeWarning: Invalid content for record 1 in column endLifespanVersion: 0000-00-00T00:00:00Z\n",
      "  return ogr_read(\n",
      "/home/aneta/Documents/Projects/future-roots/venv/lib/python3.10/site-packages/pyogrio/raw.py:198: RuntimeWarning: Invalid content for record 1 in column endLifespanVersion: 0000-00-00T00:00:00Z\n",
      "  return ogr_read(\n",
      "/home/aneta/Documents/Projects/future-roots/venv/lib/python3.10/site-packages/pyogrio/raw.py:198: RuntimeWarning: Invalid content for record 1 in column endLifespanVersion: 0000-00-00T00:00:00Z\n",
      "  return ogr_read(\n",
      "/home/aneta/Documents/Projects/future-roots/venv/lib/python3.10/site-packages/pyogrio/raw.py:198: RuntimeWarning: Invalid content for record 1 in column endLifespanVersion: 0000-00-00T00:00:00Z\n",
      "  return ogr_read(\n",
      "/home/aneta/Documents/Projects/future-roots/venv/lib/python3.10/site-packages/pyogrio/raw.py:198: RuntimeWarning: Invalid content for record 1 in column endLifespanVersion: 0000-00-00T00:00:00Z\n",
      "  return ogr_read(\n",
      "/home/aneta/Documents/Projects/future-roots/venv/lib/python3.10/site-packages/pyogrio/raw.py:198: RuntimeWarning: Invalid content for record 1 in column endLifespanVersion: 0000-00-00T00:00:00Z\n",
      "  return ogr_read(\n",
      "/home/aneta/Documents/Projects/future-roots/venv/lib/python3.10/site-packages/pyogrio/raw.py:198: RuntimeWarning: Invalid content for record 1 in column endLifespanVersion: 0000-00-00T00:00:00Z\n",
      "  return ogr_read(\n",
      "/home/aneta/Documents/Projects/future-roots/venv/lib/python3.10/site-packages/pyogrio/raw.py:198: RuntimeWarning: Invalid content for record 1 in column endLifespanVersion: 0000-00-00T00:00:00Z\n",
      "  return ogr_read(\n",
      "/home/aneta/Documents/Projects/future-roots/venv/lib/python3.10/site-packages/pyogrio/raw.py:198: RuntimeWarning: Invalid content for record 1 in column endLifespanVersion: 0000-00-00T00:00:00Z\n",
      "  return ogr_read(\n",
      "/home/aneta/Documents/Projects/future-roots/venv/lib/python3.10/site-packages/pyogrio/raw.py:198: RuntimeWarning: Invalid content for record 1 in column endLifespanVersion: 0000-00-00T00:00:00Z\n",
      "  return ogr_read(\n",
      "/home/aneta/Documents/Projects/future-roots/venv/lib/python3.10/site-packages/pyogrio/raw.py:198: RuntimeWarning: Invalid content for record 1 in column endLifespanVersion: 0000-00-00T00:00:00Z\n",
      "  return ogr_read(\n",
      "/home/aneta/Documents/Projects/future-roots/venv/lib/python3.10/site-packages/pyogrio/raw.py:198: RuntimeWarning: Invalid content for record 1 in column endLifespanVersion: 0000-00-00T00:00:00Z\n",
      "  return ogr_read(\n",
      "/home/aneta/Documents/Projects/future-roots/venv/lib/python3.10/site-packages/pyogrio/raw.py:198: RuntimeWarning: Invalid content for record 1 in column endLifespanVersion: 0000-00-00T00:00:00Z\n",
      "  return ogr_read(\n",
      "/home/aneta/Documents/Projects/future-roots/venv/lib/python3.10/site-packages/pyogrio/raw.py:198: RuntimeWarning: Invalid content for record 1 in column endLifespanVersion: 0000-00-00T00:00:00Z\n",
      "  return ogr_read(\n",
      "/home/aneta/Documents/Projects/future-roots/venv/lib/python3.10/site-packages/pyogrio/raw.py:198: RuntimeWarning: Invalid content for record 1 in column endLifespanVersion: 0000-00-00T00:00:00Z\n",
      "  return ogr_read(\n",
      "/home/aneta/Documents/Projects/future-roots/venv/lib/python3.10/site-packages/pyogrio/raw.py:198: RuntimeWarning: Invalid content for record 1 in column beginLifespanVersion: 0000-00-00T00:00:00Z\n",
      "  return ogr_read(\n",
      "/home/aneta/Documents/Projects/future-roots/venv/lib/python3.10/site-packages/pyogrio/raw.py:198: RuntimeWarning: Invalid content for record 1 in column endLifespanVersion: 0000-00-00T00:00:00Z\n",
      "  return ogr_read(\n",
      "/home/aneta/Documents/Projects/future-roots/venv/lib/python3.10/site-packages/pyogrio/raw.py:198: RuntimeWarning: Invalid content for record 1 in column endLifespanVersion: 0000-00-00T00:00:00Z\n",
      "  return ogr_read(\n",
      "/home/aneta/Documents/Projects/future-roots/venv/lib/python3.10/site-packages/pyogrio/raw.py:198: RuntimeWarning: Invalid content for record 1 in column endLifespanVersion: 0000-00-00T00:00:00Z\n",
      "  return ogr_read(\n"
     ]
    }
   ],
   "execution_count": 33
  },
  {
   "metadata": {
    "ExecuteTime": {
     "end_time": "2024-10-25T14:50:38.565528Z",
     "start_time": "2024-10-25T14:50:38.560614Z"
    }
   },
   "cell_type": "code",
   "source": "tn_geometries = []",
   "id": "3f86c3e9b2dea380",
   "outputs": [],
   "execution_count": 113
  },
  {
   "metadata": {
    "ExecuteTime": {
     "end_time": "2024-10-25T14:50:41.018675Z",
     "start_time": "2024-10-25T14:50:40.861420Z"
    }
   },
   "cell_type": "code",
   "source": [
    "for name, layer in tn_layers_dict.items():\n",
    "    if 'geometry' in layer.columns:\n",
    "        layer['layerName'] = name\n",
    "        tn_geometries.append(layer[['layerName', 'geometry']])"
   ],
   "id": "ec34912ea42bc14f",
   "outputs": [],
   "execution_count": 114
  },
  {
   "metadata": {
    "ExecuteTime": {
     "end_time": "2024-10-25T14:50:43.279768Z",
     "start_time": "2024-10-25T14:50:43.034087Z"
    }
   },
   "cell_type": "code",
   "source": "tn_geometries = pd.concat(tn_geometries)",
   "id": "8ceafd1d1005470b",
   "outputs": [],
   "execution_count": 115
  },
  {
   "metadata": {
    "ExecuteTime": {
     "end_time": "2024-10-25T14:50:47.700988Z",
     "start_time": "2024-10-25T14:50:47.535917Z"
    }
   },
   "cell_type": "code",
   "source": "tn_geometries = tn_geometries[~pd.isnull(tn_geometries.geometry)]",
   "id": "40d66980a79f1ca3",
   "outputs": [],
   "execution_count": 116
  },
  {
   "metadata": {
    "ExecuteTime": {
     "end_time": "2024-10-25T14:52:18.523603Z",
     "start_time": "2024-10-25T14:50:52.714165Z"
    }
   },
   "cell_type": "code",
   "source": "tn_geometries.to_file('../app/data/processed/tn_geometries.geojson', driver='GeoJSON')",
   "id": "8aa8eeee653ee593",
   "outputs": [],
   "execution_count": 117
  },
  {
   "metadata": {
    "ExecuteTime": {
     "end_time": "2024-10-25T14:52:18.600099Z",
     "start_time": "2024-10-25T14:52:18.596455Z"
    }
   },
   "cell_type": "code",
   "source": [
    "tn_geometries.reset_index(inplace=True)\n",
    "ba1_admin_unit.reset_index(inplace=True)"
   ],
   "id": "9e79d8e99a6b0d95",
   "outputs": [],
   "execution_count": 119
  },
  {
   "metadata": {
    "ExecuteTime": {
     "end_time": "2024-10-25T15:00:33.576943Z",
     "start_time": "2024-10-25T14:56:59.908528Z"
    }
   },
   "cell_type": "code",
   "source": "tn_geometries_ba1 = gpd.sjoin(ba1_admin_unit[['geometry']], tn_geometries[['geometry']], how='left')",
   "id": "66b5815bb21ab7ef",
   "outputs": [
    {
     "name": "stderr",
     "output_type": "stream",
     "text": [
      "/tmp/ipykernel_34914/3850698801.py:1: DeprecationWarning: The 'unary_union' attribute is deprecated, use the 'union_all()' method instead.\n",
      "  tn_geometries_ba1 = gpd.sjoin(ba1_admin_unit[['geometry']], tn_geometries[['geometry']].unary_union, how='left')\n"
     ]
    },
    {
     "ename": "KeyboardInterrupt",
     "evalue": "",
     "output_type": "error",
     "traceback": [
      "\u001B[0;31m---------------------------------------------------------------------------\u001B[0m",
      "\u001B[0;31mKeyboardInterrupt\u001B[0m                         Traceback (most recent call last)",
      "Cell \u001B[0;32mIn[126], line 1\u001B[0m\n\u001B[0;32m----> 1\u001B[0m tn_geometries_ba1 \u001B[38;5;241m=\u001B[39m gpd\u001B[38;5;241m.\u001B[39msjoin(ba1_admin_unit[[\u001B[38;5;124m'\u001B[39m\u001B[38;5;124mgeometry\u001B[39m\u001B[38;5;124m'\u001B[39m]], \u001B[43mtn_geometries\u001B[49m\u001B[43m[\u001B[49m\u001B[43m[\u001B[49m\u001B[38;5;124;43m'\u001B[39;49m\u001B[38;5;124;43mgeometry\u001B[39;49m\u001B[38;5;124;43m'\u001B[39;49m\u001B[43m]\u001B[49m\u001B[43m]\u001B[49m\u001B[38;5;241;43m.\u001B[39;49m\u001B[43munary_union\u001B[49m, how\u001B[38;5;241m=\u001B[39m\u001B[38;5;124m'\u001B[39m\u001B[38;5;124mleft\u001B[39m\u001B[38;5;124m'\u001B[39m)\n",
      "File \u001B[0;32m~/Documents/Projects/future-roots/venv/lib/python3.10/site-packages/geopandas/base.py:2117\u001B[0m, in \u001B[0;36mGeoPandasBase.unary_union\u001B[0;34m(self)\u001B[0m\n\u001B[1;32m   2085\u001B[0m \u001B[38;5;250m\u001B[39m\u001B[38;5;124;03m\"\"\"Returns a geometry containing the union of all geometries in the\u001B[39;00m\n\u001B[1;32m   2086\u001B[0m \u001B[38;5;124;03m``GeoSeries``.\u001B[39;00m\n\u001B[1;32m   2087\u001B[0m \n\u001B[0;32m   (...)\u001B[0m\n\u001B[1;32m   2107\u001B[0m \u001B[38;5;124;03mGeoSeries.union_all\u001B[39;00m\n\u001B[1;32m   2108\u001B[0m \u001B[38;5;124;03m\"\"\"\u001B[39;00m\n\u001B[1;32m   2110\u001B[0m warn(\n\u001B[1;32m   2111\u001B[0m     \u001B[38;5;124m\"\u001B[39m\u001B[38;5;124mThe \u001B[39m\u001B[38;5;124m'\u001B[39m\u001B[38;5;124munary_union\u001B[39m\u001B[38;5;124m'\u001B[39m\u001B[38;5;124m attribute is deprecated, \u001B[39m\u001B[38;5;124m\"\u001B[39m\n\u001B[1;32m   2112\u001B[0m     \u001B[38;5;124m\"\u001B[39m\u001B[38;5;124muse the \u001B[39m\u001B[38;5;124m'\u001B[39m\u001B[38;5;124munion_all()\u001B[39m\u001B[38;5;124m'\u001B[39m\u001B[38;5;124m method instead.\u001B[39m\u001B[38;5;124m\"\u001B[39m,\n\u001B[1;32m   2113\u001B[0m     \u001B[38;5;167;01mDeprecationWarning\u001B[39;00m,\n\u001B[1;32m   2114\u001B[0m     stacklevel\u001B[38;5;241m=\u001B[39m\u001B[38;5;241m2\u001B[39m,\n\u001B[1;32m   2115\u001B[0m )\n\u001B[0;32m-> 2117\u001B[0m \u001B[38;5;28;01mreturn\u001B[39;00m \u001B[38;5;28;43mself\u001B[39;49m\u001B[38;5;241;43m.\u001B[39;49m\u001B[43mgeometry\u001B[49m\u001B[38;5;241;43m.\u001B[39;49m\u001B[43mvalues\u001B[49m\u001B[38;5;241;43m.\u001B[39;49m\u001B[43munion_all\u001B[49m\u001B[43m(\u001B[49m\u001B[43m)\u001B[49m\n",
      "File \u001B[0;32m~/Documents/Projects/future-roots/venv/lib/python3.10/site-packages/geopandas/array.py:863\u001B[0m, in \u001B[0;36mGeometryArray.union_all\u001B[0;34m(self, method)\u001B[0m\n\u001B[1;32m    861\u001B[0m     \u001B[38;5;28;01mreturn\u001B[39;00m shapely\u001B[38;5;241m.\u001B[39mcoverage_union_all(\u001B[38;5;28mself\u001B[39m\u001B[38;5;241m.\u001B[39m_data)\n\u001B[1;32m    862\u001B[0m \u001B[38;5;28;01melif\u001B[39;00m method \u001B[38;5;241m==\u001B[39m \u001B[38;5;124m\"\u001B[39m\u001B[38;5;124munary\u001B[39m\u001B[38;5;124m\"\u001B[39m:\n\u001B[0;32m--> 863\u001B[0m     \u001B[38;5;28;01mreturn\u001B[39;00m \u001B[43mshapely\u001B[49m\u001B[38;5;241;43m.\u001B[39;49m\u001B[43munion_all\u001B[49m\u001B[43m(\u001B[49m\u001B[38;5;28;43mself\u001B[39;49m\u001B[38;5;241;43m.\u001B[39;49m\u001B[43m_data\u001B[49m\u001B[43m)\u001B[49m\n\u001B[1;32m    864\u001B[0m \u001B[38;5;28;01melse\u001B[39;00m:\n\u001B[1;32m    865\u001B[0m     \u001B[38;5;28;01mraise\u001B[39;00m \u001B[38;5;167;01mValueError\u001B[39;00m(\n\u001B[1;32m    866\u001B[0m         \u001B[38;5;124mf\u001B[39m\u001B[38;5;124m\"\u001B[39m\u001B[38;5;124mMethod \u001B[39m\u001B[38;5;124m'\u001B[39m\u001B[38;5;132;01m{\u001B[39;00mmethod\u001B[38;5;132;01m}\u001B[39;00m\u001B[38;5;124m'\u001B[39m\u001B[38;5;124m not recognized. Use \u001B[39m\u001B[38;5;124m'\u001B[39m\u001B[38;5;124mcoverage\u001B[39m\u001B[38;5;124m'\u001B[39m\u001B[38;5;124m or \u001B[39m\u001B[38;5;124m'\u001B[39m\u001B[38;5;124munary\u001B[39m\u001B[38;5;124m'\u001B[39m\u001B[38;5;124m.\u001B[39m\u001B[38;5;124m\"\u001B[39m\n\u001B[1;32m    867\u001B[0m     )\n",
      "File \u001B[0;32m~/Documents/Projects/future-roots/venv/lib/python3.10/site-packages/shapely/decorators.py:77\u001B[0m, in \u001B[0;36mmultithreading_enabled.<locals>.wrapped\u001B[0;34m(*args, **kwargs)\u001B[0m\n\u001B[1;32m     75\u001B[0m     \u001B[38;5;28;01mfor\u001B[39;00m arr \u001B[38;5;129;01min\u001B[39;00m array_args:\n\u001B[1;32m     76\u001B[0m         arr\u001B[38;5;241m.\u001B[39mflags\u001B[38;5;241m.\u001B[39mwriteable \u001B[38;5;241m=\u001B[39m \u001B[38;5;28;01mFalse\u001B[39;00m\n\u001B[0;32m---> 77\u001B[0m     \u001B[38;5;28;01mreturn\u001B[39;00m \u001B[43mfunc\u001B[49m\u001B[43m(\u001B[49m\u001B[38;5;241;43m*\u001B[39;49m\u001B[43margs\u001B[49m\u001B[43m,\u001B[49m\u001B[43m \u001B[49m\u001B[38;5;241;43m*\u001B[39;49m\u001B[38;5;241;43m*\u001B[39;49m\u001B[43mkwargs\u001B[49m\u001B[43m)\u001B[49m\n\u001B[1;32m     78\u001B[0m \u001B[38;5;28;01mfinally\u001B[39;00m:\n\u001B[1;32m     79\u001B[0m     \u001B[38;5;28;01mfor\u001B[39;00m arr, old_flag \u001B[38;5;129;01min\u001B[39;00m \u001B[38;5;28mzip\u001B[39m(array_args, old_flags):\n",
      "File \u001B[0;32m~/Documents/Projects/future-roots/venv/lib/python3.10/site-packages/shapely/set_operations.py:421\u001B[0m, in \u001B[0;36munion_all\u001B[0;34m(geometries, grid_size, axis, **kwargs)\u001B[0m\n\u001B[1;32m    417\u001B[0m         \u001B[38;5;28;01mraise\u001B[39;00m \u001B[38;5;167;01mValueError\u001B[39;00m(\u001B[38;5;124m\"\u001B[39m\u001B[38;5;124mgrid_size parameter only accepts scalar values\u001B[39m\u001B[38;5;124m\"\u001B[39m)\n\u001B[1;32m    419\u001B[0m     \u001B[38;5;28;01mreturn\u001B[39;00m lib\u001B[38;5;241m.\u001B[39munary_union_prec(collections, grid_size, \u001B[38;5;241m*\u001B[39m\u001B[38;5;241m*\u001B[39mkwargs)\n\u001B[0;32m--> 421\u001B[0m \u001B[38;5;28;01mreturn\u001B[39;00m \u001B[43mlib\u001B[49m\u001B[38;5;241;43m.\u001B[39;49m\u001B[43munary_union\u001B[49m\u001B[43m(\u001B[49m\u001B[43mcollections\u001B[49m\u001B[43m,\u001B[49m\u001B[43m \u001B[49m\u001B[38;5;241;43m*\u001B[39;49m\u001B[38;5;241;43m*\u001B[39;49m\u001B[43mkwargs\u001B[49m\u001B[43m)\u001B[49m\n",
      "\u001B[0;31mKeyboardInterrupt\u001B[0m: "
     ]
    }
   ],
   "execution_count": 126
  },
  {
   "metadata": {
    "ExecuteTime": {
     "end_time": "2024-10-25T14:56:15.055836Z",
     "start_time": "2024-10-25T14:56:15.031472Z"
    }
   },
   "cell_type": "code",
   "source": "tn_geometries_ba1.plot()",
   "id": "e2b22bd42a50ab65",
   "outputs": [
    {
     "data": {
      "text/plain": [
       "                                             geometry  index_right\n",
       "0   POLYGON ((17.07353 48.17447, 17.07354 48.17447...       879961\n",
       "0   POLYGON ((17.07353 48.17447, 17.07354 48.17447...       879728\n",
       "0   POLYGON ((17.07353 48.17447, 17.07354 48.17447...        75788\n",
       "0   POLYGON ((17.07353 48.17447, 17.07354 48.17447...        54689\n",
       "0   POLYGON ((17.07353 48.17447, 17.07354 48.17447...        77233\n",
       "..                                                ...          ...\n",
       "0   POLYGON ((17.07353 48.17447, 17.07354 48.17447...         3418\n",
       "0   POLYGON ((17.07353 48.17447, 17.07354 48.17447...         3417\n",
       "0   POLYGON ((17.07353 48.17447, 17.07354 48.17447...       221559\n",
       "0   POLYGON ((17.07353 48.17447, 17.07354 48.17447...       221557\n",
       "0   POLYGON ((17.07353 48.17447, 17.07354 48.17447...       934513\n",
       "\n",
       "[3638 rows x 2 columns]"
      ],
      "text/html": [
       "<div>\n",
       "<style scoped>\n",
       "    .dataframe tbody tr th:only-of-type {\n",
       "        vertical-align: middle;\n",
       "    }\n",
       "\n",
       "    .dataframe tbody tr th {\n",
       "        vertical-align: top;\n",
       "    }\n",
       "\n",
       "    .dataframe thead th {\n",
       "        text-align: right;\n",
       "    }\n",
       "</style>\n",
       "<table border=\"1\" class=\"dataframe\">\n",
       "  <thead>\n",
       "    <tr style=\"text-align: right;\">\n",
       "      <th></th>\n",
       "      <th>geometry</th>\n",
       "      <th>index_right</th>\n",
       "    </tr>\n",
       "  </thead>\n",
       "  <tbody>\n",
       "    <tr>\n",
       "      <th>0</th>\n",
       "      <td>POLYGON ((17.07353 48.17447, 17.07354 48.17447...</td>\n",
       "      <td>879961</td>\n",
       "    </tr>\n",
       "    <tr>\n",
       "      <th>0</th>\n",
       "      <td>POLYGON ((17.07353 48.17447, 17.07354 48.17447...</td>\n",
       "      <td>879728</td>\n",
       "    </tr>\n",
       "    <tr>\n",
       "      <th>0</th>\n",
       "      <td>POLYGON ((17.07353 48.17447, 17.07354 48.17447...</td>\n",
       "      <td>75788</td>\n",
       "    </tr>\n",
       "    <tr>\n",
       "      <th>0</th>\n",
       "      <td>POLYGON ((17.07353 48.17447, 17.07354 48.17447...</td>\n",
       "      <td>54689</td>\n",
       "    </tr>\n",
       "    <tr>\n",
       "      <th>0</th>\n",
       "      <td>POLYGON ((17.07353 48.17447, 17.07354 48.17447...</td>\n",
       "      <td>77233</td>\n",
       "    </tr>\n",
       "    <tr>\n",
       "      <th>...</th>\n",
       "      <td>...</td>\n",
       "      <td>...</td>\n",
       "    </tr>\n",
       "    <tr>\n",
       "      <th>0</th>\n",
       "      <td>POLYGON ((17.07353 48.17447, 17.07354 48.17447...</td>\n",
       "      <td>3418</td>\n",
       "    </tr>\n",
       "    <tr>\n",
       "      <th>0</th>\n",
       "      <td>POLYGON ((17.07353 48.17447, 17.07354 48.17447...</td>\n",
       "      <td>3417</td>\n",
       "    </tr>\n",
       "    <tr>\n",
       "      <th>0</th>\n",
       "      <td>POLYGON ((17.07353 48.17447, 17.07354 48.17447...</td>\n",
       "      <td>221559</td>\n",
       "    </tr>\n",
       "    <tr>\n",
       "      <th>0</th>\n",
       "      <td>POLYGON ((17.07353 48.17447, 17.07354 48.17447...</td>\n",
       "      <td>221557</td>\n",
       "    </tr>\n",
       "    <tr>\n",
       "      <th>0</th>\n",
       "      <td>POLYGON ((17.07353 48.17447, 17.07354 48.17447...</td>\n",
       "      <td>934513</td>\n",
       "    </tr>\n",
       "  </tbody>\n",
       "</table>\n",
       "<p>3638 rows × 2 columns</p>\n",
       "</div>"
      ]
     },
     "execution_count": 125,
     "metadata": {},
     "output_type": "execute_result"
    }
   ],
   "execution_count": 125
  },
  {
   "metadata": {},
   "cell_type": "code",
   "outputs": [],
   "execution_count": null,
   "source": "tn_geometries_ba1",
   "id": "e7ac472ce268f238"
  },
  {
   "metadata": {},
   "cell_type": "code",
   "outputs": [],
   "execution_count": null,
   "source": "",
   "id": "c62498a1326b98e2"
  }
 ],
 "metadata": {
  "kernelspec": {
   "display_name": "Python 3",
   "language": "python",
   "name": "python3"
  },
  "language_info": {
   "codemirror_mode": {
    "name": "ipython",
    "version": 2
   },
   "file_extension": ".py",
   "mimetype": "text/x-python",
   "name": "python",
   "nbconvert_exporter": "python",
   "pygments_lexer": "ipython2",
   "version": "2.7.6"
  }
 },
 "nbformat": 4,
 "nbformat_minor": 5
}
