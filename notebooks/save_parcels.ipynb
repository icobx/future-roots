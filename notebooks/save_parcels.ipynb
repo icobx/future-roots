{
 "cells": [
  {
   "metadata": {},
   "cell_type": "code",
   "outputs": [],
   "execution_count": null,
   "source": "",
   "id": "89320a5267fc0b61"
  },
  {
   "metadata": {
    "ExecuteTime": {
     "end_time": "2024-10-25T14:09:50.928487Z",
     "start_time": "2024-10-25T14:09:50.543952Z"
    }
   },
   "cell_type": "code",
   "source": [
    "import fiona\n",
    "import geopandas as gpd\n",
    "import os\n",
    "import pandas as pd"
   ],
   "id": "fed3a4508dda51b9",
   "outputs": [],
   "execution_count": 1
  },
  {
   "metadata": {
    "ExecuteTime": {
     "end_time": "2024-10-25T14:09:50.944915Z",
     "start_time": "2024-10-25T14:09:50.938128Z"
    }
   },
   "cell_type": "code",
   "source": [
    "# List available layers in the geopackage file\n",
    "layers = fiona.listlayers('../app/data/INSPIRE_AU.gpkg')\n",
    "print(\"Available layers:\", layers)"
   ],
   "id": "76e18aaf68d5e87e",
   "outputs": [
    {
     "name": "stdout",
     "output_type": "stream",
     "text": [
      "Available layers: ['AdministrativeBoundary', 'AdministrativeUnit']\n"
     ]
    }
   ],
   "execution_count": 2
  },
  {
   "metadata": {
    "ExecuteTime": {
     "end_time": "2024-10-25T14:09:51.284060Z",
     "start_time": "2024-10-25T14:09:51.096604Z"
    }
   },
   "cell_type": "code",
   "source": "admin_units = gpd.read_file('../app/data/INSPIRE_AU.gpkg', layer='AdministrativeBoundary')",
   "id": "6828ea7c5a0dd68e",
   "outputs": [],
   "execution_count": 3
  },
  {
   "metadata": {
    "ExecuteTime": {
     "end_time": "2024-10-25T14:09:51.468659Z",
     "start_time": "2024-10-25T14:09:51.297327Z"
    }
   },
   "cell_type": "code",
   "source": "admin_units_metadata = gpd.read_file('../app/data/INSPIRE_AU.gpkg', layer='AdministrativeUnit')",
   "id": "f1b22868efbdd0bc",
   "outputs": [],
   "execution_count": 4
  },
  {
   "metadata": {
    "ExecuteTime": {
     "end_time": "2024-10-25T14:09:51.832714Z",
     "start_time": "2024-10-25T14:09:51.824753Z"
    }
   },
   "cell_type": "code",
   "source": "admin_units_metadata.columns",
   "id": "623fd375dbcbed08",
   "outputs": [
    {
     "data": {
      "text/plain": [
       "Index(['id', 'localId', 'namespace', 'versionId', 'beginLifeSpanVersion',\n",
       "       'endLifeSpanVersion', 'country', 'name', 'nationalCode',\n",
       "       'nationalLevel', 'nationalLevelName', 'residenceOfAuthority',\n",
       "       'condominium', 'lowerLevelUnit', 'upperLevelUnit', 'administeredBy',\n",
       "       'coAdminister', 'geometry'],\n",
       "      dtype='object')"
      ]
     },
     "execution_count": 5,
     "metadata": {},
     "output_type": "execute_result"
    }
   ],
   "execution_count": 5
  },
  {
   "metadata": {
    "ExecuteTime": {
     "end_time": "2024-10-25T14:09:52.224264Z",
     "start_time": "2024-10-25T14:09:52.214649Z"
    }
   },
   "cell_type": "code",
   "source": "admin_units_metadata[['nationalLevelName', 'administeredBy', 'name']].nationalLevelName.unique()",
   "id": "d0e9b0b043fc5b1f",
   "outputs": [
    {
     "data": {
      "text/plain": [
       "array(['okres', 'obec', 'štát', 'kraj'], dtype=object)"
      ]
     },
     "execution_count": 6,
     "metadata": {},
     "output_type": "execute_result"
    }
   ],
   "execution_count": 6
  },
  {
   "metadata": {
    "ExecuteTime": {
     "end_time": "2024-10-25T14:09:53.304250Z",
     "start_time": "2024-10-25T14:09:52.767240Z"
    }
   },
   "cell_type": "code",
   "source": "ba_admin_unit = admin_units_metadata[(admin_units_metadata.nationalLevelName == 'kraj') & (admin_units_metadata.name == 'Bratislavský')].plot()",
   "id": "1b785d3feb839064",
   "outputs": [
    {
     "data": {
      "text/plain": [
       "<Figure size 640x480 with 1 Axes>"
      ],
      "image/png": "[encoded data removed]"
     },
     "metadata": {},
     "output_type": "display_data"
    }
   ],
   "execution_count": 7
  },
  {
   "metadata": {
    "ExecuteTime": {
     "end_time": "2024-10-25T14:09:58.664051Z",
     "start_time": "2024-10-25T14:09:58.636560Z"
    }
   },
   "cell_type": "code",
   "source": [
    "# List available layers in the geopackage file\n",
    "layers = fiona.listlayers('../app/data/BratislavskyC/991953.gml')\n",
    "print(\"Available layers:\", layers)"
   ],
   "id": "a87d5f9007067627",
   "outputs": [
    {
     "name": "stdout",
     "output_type": "stream",
     "text": [
      "Available layers: ['CadastralZoning']\n"
     ]
    }
   ],
   "execution_count": 8
  },
  {
   "metadata": {
    "ExecuteTime": {
     "end_time": "2024-10-25T14:15:11.593855Z",
     "start_time": "2024-10-25T14:14:47.687165Z"
    }
   },
   "cell_type": "code",
   "source": [
    "ls = []\n",
    "for f in os.listdir('../app/data/BratislavskyC/'):\n",
    "    if f.endswith('.gml'):\n",
    "        path = os.path.join('../app/data/BratislavskyC/', f)\n",
    "        layers = fiona.listlayers(path)\n",
    "        if 'CadastralParcel' in layers:\n",
    "            ls.append(gpd.read_file(path, layer='CadastralParcel')[['gml_id', 'geometry']])"
   ],
   "id": "c9687ce3502bf3b4",
   "outputs": [],
   "execution_count": 14
  },
  {
   "metadata": {
    "ExecuteTime": {
     "end_time": "2024-10-25T14:22:16.942918Z",
     "start_time": "2024-10-25T14:22:16.881102Z"
    }
   },
   "cell_type": "code",
   "source": "parcels_c = pd.concat(ls)",
   "id": "5ae4dc2cd40cd029",
   "outputs": [],
   "execution_count": 16
  },
  {
   "metadata": {
    "ExecuteTime": {
     "end_time": "2024-10-25T14:22:28.665753Z",
     "start_time": "2024-10-25T14:22:28.543309Z"
    }
   },
   "cell_type": "code",
   "source": "parcels_c.info()",
   "id": "1cdee2fa3810d45f",
   "outputs": [
    {
     "name": "stdout",
     "output_type": "stream",
     "text": [
      "<class 'geopandas.geodataframe.GeoDataFrame'>\n",
      "Index: 746221 entries, 0 to 12020\n",
      "Data columns (total 2 columns):\n",
      " #   Column    Non-Null Count   Dtype   \n",
      "---  ------    --------------   -----   \n",
      " 0   gml_id    746221 non-null  object  \n",
      " 1   geometry  746221 non-null  geometry\n",
      "dtypes: geometry(1), object(1)\n",
      "memory usage: 17.1+ MB\n"
     ]
    }
   ],
   "execution_count": 18
  },
  {
   "metadata": {
    "ExecuteTime": {
     "end_time": "2024-10-25T14:24:25.312061Z",
     "start_time": "2024-10-25T14:23:39.747567Z"
    }
   },
   "cell_type": "code",
   "source": "parcels_c.to_file('../app/data/processed/parcels_c.geojson', driver='GeoJSON')",
   "id": "f77b88b87f275ae7",
   "outputs": [],
   "execution_count": 19
  },
  {
   "metadata": {
    "ExecuteTime": {
     "end_time": "2024-10-25T14:43:42.310715Z",
     "start_time": "2024-10-25T14:43:26.325331Z"
    }
   },
   "cell_type": "code",
   "source": [
    "ls = []\n",
    "for f in os.listdir('../app/data/BratislavskyE/'):\n",
    "    if f.endswith('.gml'):\n",
    "        path = os.path.join('../app/data/BratislavskyE/', f)\n",
    "        layers = fiona.listlayers(path)\n",
    "        if 'CadastralParcel' in layers:\n",
    "            ls.append(gpd.read_file(path, layer='CadastralParcel')[['gml_id', 'geometry']])"
   ],
   "id": "79c6d4b7a8b13aac",
   "outputs": [],
   "execution_count": 20
  },
  {
   "metadata": {
    "ExecuteTime": {
     "end_time": "2024-10-25T14:43:42.345760Z",
     "start_time": "2024-10-25T14:43:42.315032Z"
    }
   },
   "cell_type": "code",
   "source": "parcels_e = pd.concat(ls)",
   "id": "98e859d34149a88b",
   "outputs": [],
   "execution_count": 21
  },
  {
   "metadata": {
    "ExecuteTime": {
     "end_time": "2024-10-25T14:43:55.088878Z",
     "start_time": "2024-10-25T14:43:42.382349Z"
    }
   },
   "cell_type": "code",
   "source": "parcels_e.to_file('../app/data/processed/parcels_e.geojson', driver='GeoJSON')",
   "id": "cc00153b46c73a42",
   "outputs": [],
   "execution_count": 22
  },
  {
   "metadata": {},
   "cell_type": "code",
   "outputs": [],
   "execution_count": null,
   "source": "",
   "id": "d865f3455835e16"
  }
 ],
 "metadata": {
  "kernelspec": {
   "display_name": "Python 3",
   "language": "python",
   "name": "python3"
  },
  "language_info": {
   "codemirror_mode": {
    "name": "ipython",
    "version": 2
   },
   "file_extension": ".py",
   "mimetype": "text/x-python",
   "name": "python",
   "nbconvert_exporter": "python",
   "pygments_lexer": "ipython2",
   "version": "2.7.6"
  }
 },
 "nbformat": 4,
 "nbformat_minor": 5
}
